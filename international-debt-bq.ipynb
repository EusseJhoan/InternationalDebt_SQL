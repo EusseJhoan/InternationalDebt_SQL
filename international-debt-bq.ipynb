{
 "cells": [
  {
   "cell_type": "code",
   "execution_count": 1,
   "id": "5e590be4",
   "metadata": {
    "_cell_guid": "b1076dfc-b9ad-4769-8c92-a6c4dae69d19",
    "_uuid": "8f2839f25d086af736a60e9eeb907d3b93b6e0e5",
    "execution": {
     "iopub.execute_input": "2023-09-04T17:11:38.155798Z",
     "iopub.status.busy": "2023-09-04T17:11:38.155199Z",
     "iopub.status.idle": "2023-09-04T17:11:42.012143Z",
     "shell.execute_reply": "2023-09-04T17:11:42.010976Z"
    },
    "papermill": {
     "duration": 3.868261,
     "end_time": "2023-09-04T17:11:42.014797",
     "exception": false,
     "start_time": "2023-09-04T17:11:38.146536",
     "status": "completed"
    },
    "tags": []
   },
   "outputs": [],
   "source": [
    "from google.cloud import bigquery"
   ]
  },
  {
   "cell_type": "code",
   "execution_count": 2,
   "id": "b5a70872",
   "metadata": {
    "execution": {
     "iopub.execute_input": "2023-09-04T17:11:42.028972Z",
     "iopub.status.busy": "2023-09-04T17:11:42.028405Z",
     "iopub.status.idle": "2023-09-04T17:11:42.382542Z",
     "shell.execute_reply": "2023-09-04T17:11:42.381324Z"
    },
    "papermill": {
     "duration": 0.363949,
     "end_time": "2023-09-04T17:11:42.385138",
     "exception": false,
     "start_time": "2023-09-04T17:11:42.021189",
     "status": "completed"
    },
    "tags": []
   },
   "outputs": [
    {
     "name": "stdout",
     "output_type": "stream",
     "text": [
      "Using Kaggle's public dataset BigQuery integration.\n"
     ]
    }
   ],
   "source": [
    "# Create a \"Client\" object\n",
    "client = bigquery.Client()\n",
    "\n",
    "# Construct a reference to the \"world-bank-intl-debt\" dataset\n",
    "dataset_ref = client.dataset(\"world_bank_intl_debt\", project=\"bigquery-public-data\")\n",
    "\n",
    "# API request - fetch the dataset\n",
    "dataset = client.get_dataset(dataset_ref)"
   ]
  },
  {
   "cell_type": "markdown",
   "id": "9e5a2b19",
   "metadata": {
    "papermill": {
     "duration": 0.005861,
     "end_time": "2023-09-04T17:11:42.397780",
     "exception": false,
     "start_time": "2023-09-04T17:11:42.391919",
     "status": "completed"
    },
    "tags": []
   },
   "source": [
    "Exploration of the dataset"
   ]
  },
  {
   "cell_type": "code",
   "execution_count": 3,
   "id": "972c3fa9",
   "metadata": {
    "execution": {
     "iopub.execute_input": "2023-09-04T17:11:42.411514Z",
     "iopub.status.busy": "2023-09-04T17:11:42.411106Z",
     "iopub.status.idle": "2023-09-04T17:11:42.717786Z",
     "shell.execute_reply": "2023-09-04T17:11:42.716917Z"
    },
    "papermill": {
     "duration": 0.316229,
     "end_time": "2023-09-04T17:11:42.719981",
     "exception": false,
     "start_time": "2023-09-04T17:11:42.403752",
     "status": "completed"
    },
    "tags": []
   },
   "outputs": [
    {
     "data": {
      "text/plain": [
       "['country_series_definitions',\n",
       " 'country_summary',\n",
       " 'international_debt',\n",
       " 'series_summary',\n",
       " 'series_times']"
      ]
     },
     "execution_count": 3,
     "metadata": {},
     "output_type": "execute_result"
    }
   ],
   "source": [
    "# List all the tables in the \"world-bank-intl-debt\" dataset\n",
    "tables = list(client.list_tables(dataset))\n",
    "\n",
    "tables_id=[table.table_id for table in tables]\n",
    "\n",
    "tables_id"
   ]
  },
  {
   "cell_type": "code",
   "execution_count": 4,
   "id": "f64f4e8d",
   "metadata": {
    "execution": {
     "iopub.execute_input": "2023-09-04T17:11:42.734299Z",
     "iopub.status.busy": "2023-09-04T17:11:42.733857Z",
     "iopub.status.idle": "2023-09-04T17:11:43.045268Z",
     "shell.execute_reply": "2023-09-04T17:11:43.043938Z"
    },
    "papermill": {
     "duration": 0.321686,
     "end_time": "2023-09-04T17:11:43.048068",
     "exception": false,
     "start_time": "2023-09-04T17:11:42.726382",
     "status": "completed"
    },
    "tags": []
   },
   "outputs": [],
   "source": [
    "# Construct a reference to the \"international_debt\" table\n",
    "table_ref = dataset_ref.table(\"international_debt\")\n",
    "\n",
    "# API request - fetch the table\n",
    "table = client.get_table(table_ref)"
   ]
  },
  {
   "cell_type": "code",
   "execution_count": 5,
   "id": "45c11a26",
   "metadata": {
    "execution": {
     "iopub.execute_input": "2023-09-04T17:11:43.062652Z",
     "iopub.status.busy": "2023-09-04T17:11:43.061992Z",
     "iopub.status.idle": "2023-09-04T17:11:43.070203Z",
     "shell.execute_reply": "2023-09-04T17:11:43.069190Z"
    },
    "papermill": {
     "duration": 0.017755,
     "end_time": "2023-09-04T17:11:43.072345",
     "exception": false,
     "start_time": "2023-09-04T17:11:43.054590",
     "status": "completed"
    },
    "tags": []
   },
   "outputs": [
    {
     "data": {
      "text/plain": [
       "[SchemaField('country_name', 'STRING', 'NULLABLE', '', (), None),\n",
       " SchemaField('country_code', 'STRING', 'NULLABLE', '', (), None),\n",
       " SchemaField('indicator_name', 'STRING', 'NULLABLE', '', (), None),\n",
       " SchemaField('indicator_code', 'STRING', 'NULLABLE', '', (), None),\n",
       " SchemaField('value', 'FLOAT', 'NULLABLE', '', (), None),\n",
       " SchemaField('year', 'INTEGER', 'NULLABLE', '', (), None)]"
      ]
     },
     "execution_count": 5,
     "metadata": {},
     "output_type": "execute_result"
    }
   ],
   "source": [
    "# Print the schema of the \"international_debt\" table \n",
    "table.schema"
   ]
  },
  {
   "cell_type": "code",
   "execution_count": 6,
   "id": "3a460343",
   "metadata": {
    "execution": {
     "iopub.execute_input": "2023-09-04T17:11:43.087043Z",
     "iopub.status.busy": "2023-09-04T17:11:43.086675Z",
     "iopub.status.idle": "2023-09-04T17:11:43.646867Z",
     "shell.execute_reply": "2023-09-04T17:11:43.645889Z"
    },
    "papermill": {
     "duration": 0.570425,
     "end_time": "2023-09-04T17:11:43.649226",
     "exception": false,
     "start_time": "2023-09-04T17:11:43.078801",
     "status": "completed"
    },
    "tags": []
   },
   "outputs": [
    {
     "data": {
      "text/html": [
       "<div>\n",
       "<style scoped>\n",
       "    .dataframe tbody tr th:only-of-type {\n",
       "        vertical-align: middle;\n",
       "    }\n",
       "\n",
       "    .dataframe tbody tr th {\n",
       "        vertical-align: top;\n",
       "    }\n",
       "\n",
       "    .dataframe thead th {\n",
       "        text-align: right;\n",
       "    }\n",
       "</style>\n",
       "<table border=\"1\" class=\"dataframe\">\n",
       "  <thead>\n",
       "    <tr style=\"text-align: right;\">\n",
       "      <th></th>\n",
       "      <th>country_name</th>\n",
       "      <th>country_code</th>\n",
       "      <th>indicator_name</th>\n",
       "      <th>indicator_code</th>\n",
       "      <th>value</th>\n",
       "      <th>year</th>\n",
       "    </tr>\n",
       "  </thead>\n",
       "  <tbody>\n",
       "    <tr>\n",
       "      <th>0</th>\n",
       "      <td>Chad</td>\n",
       "      <td>TCD</td>\n",
       "      <td>GNI (current US$)</td>\n",
       "      <td>NY.GNP.MKTP.CD</td>\n",
       "      <td>NaN</td>\n",
       "      <td>NaN</td>\n",
       "    </tr>\n",
       "    <tr>\n",
       "      <th>1</th>\n",
       "      <td>Chad</td>\n",
       "      <td>TCD</td>\n",
       "      <td>GNI (current US$)</td>\n",
       "      <td>NY.GNP.MKTP.CD</td>\n",
       "      <td>NaN</td>\n",
       "      <td>NaN</td>\n",
       "    </tr>\n",
       "    <tr>\n",
       "      <th>2</th>\n",
       "      <td>Chad</td>\n",
       "      <td>TCD</td>\n",
       "      <td>GNI (current US$)</td>\n",
       "      <td>NY.GNP.MKTP.CD</td>\n",
       "      <td>NaN</td>\n",
       "      <td>NaN</td>\n",
       "    </tr>\n",
       "    <tr>\n",
       "      <th>3</th>\n",
       "      <td>Chad</td>\n",
       "      <td>TCD</td>\n",
       "      <td>GNI (current US$)</td>\n",
       "      <td>NY.GNP.MKTP.CD</td>\n",
       "      <td>NaN</td>\n",
       "      <td>NaN</td>\n",
       "    </tr>\n",
       "    <tr>\n",
       "      <th>4</th>\n",
       "      <td>Chad</td>\n",
       "      <td>TCD</td>\n",
       "      <td>GNI (current US$)</td>\n",
       "      <td>NY.GNP.MKTP.CD</td>\n",
       "      <td>NaN</td>\n",
       "      <td>NaN</td>\n",
       "    </tr>\n",
       "  </tbody>\n",
       "</table>\n",
       "</div>"
      ],
      "text/plain": [
       "  country_name country_code     indicator_name  indicator_code  value  year\n",
       "0         Chad          TCD  GNI (current US$)  NY.GNP.MKTP.CD    NaN   NaN\n",
       "1         Chad          TCD  GNI (current US$)  NY.GNP.MKTP.CD    NaN   NaN\n",
       "2         Chad          TCD  GNI (current US$)  NY.GNP.MKTP.CD    NaN   NaN\n",
       "3         Chad          TCD  GNI (current US$)  NY.GNP.MKTP.CD    NaN   NaN\n",
       "4         Chad          TCD  GNI (current US$)  NY.GNP.MKTP.CD    NaN   NaN"
      ]
     },
     "execution_count": 6,
     "metadata": {},
     "output_type": "execute_result"
    }
   ],
   "source": [
    "# Preview the first five lines of the \"full\" table\n",
    "client.list_rows(table, max_results=5).to_dataframe()"
   ]
  },
  {
   "cell_type": "markdown",
   "id": "cd5b22a5",
   "metadata": {
    "papermill": {
     "duration": 0.006309,
     "end_time": "2023-09-04T17:11:43.662559",
     "exception": false,
     "start_time": "2023-09-04T17:11:43.656250",
     "status": "completed"
    },
    "tags": []
   },
   "source": [
    "Printing all the distinct names of countries "
   ]
  },
  {
   "cell_type": "code",
   "execution_count": 7,
   "id": "0ef4d9a3",
   "metadata": {
    "execution": {
     "iopub.execute_input": "2023-09-04T17:11:43.677583Z",
     "iopub.status.busy": "2023-09-04T17:11:43.677166Z",
     "iopub.status.idle": "2023-09-04T17:11:45.201490Z",
     "shell.execute_reply": "2023-09-04T17:11:45.200172Z"
    },
    "papermill": {
     "duration": 1.53491,
     "end_time": "2023-09-04T17:11:45.204078",
     "exception": false,
     "start_time": "2023-09-04T17:11:43.669168",
     "status": "completed"
    },
    "tags": []
   },
   "outputs": [
    {
     "name": "stdout",
     "output_type": "stream",
     "text": [
      "                                                country\n",
      "0                                           Afghanistan\n",
      "1                                                Angola\n",
      "2                                               Albania\n",
      "3                                             Argentina\n",
      "4                                               Armenia\n",
      "5                                            Azerbaijan\n",
      "6                                               Burundi\n",
      "7                                                 Benin\n",
      "8                                          Burkina Faso\n",
      "9                                            Bangladesh\n",
      "10                                             Bulgaria\n",
      "11                               Bosnia and Herzegovina\n",
      "12                                              Belarus\n",
      "13                                               Belize\n",
      "14                                              Bolivia\n",
      "15                                               Brazil\n",
      "16                                               Bhutan\n",
      "17                                             Botswana\n",
      "18                             Central African Republic\n",
      "19                                                China\n",
      "20                                        Cote d'Ivoire\n",
      "21                                             Cameroon\n",
      "22                                     Congo, Dem. Rep.\n",
      "23                                          Congo, Rep.\n",
      "24                                             Colombia\n",
      "25                                              Comoros\n",
      "26                                           Cabo Verde\n",
      "27                                           Costa Rica\n",
      "28                                             Dominica\n",
      "29                                   Dominican Republic\n",
      "30                                              Algeria\n",
      "31          East Asia & Pacific (excluding high income)\n",
      "32        Europe & Central Asia (excluding high income)\n",
      "33                                              Ecuador\n",
      "34                                     Egypt, Arab Rep.\n",
      "35                                              Eritrea\n",
      "36                                             Ethiopia\n",
      "37                                                 Fiji\n",
      "38                                                Gabon\n",
      "39                                              Georgia\n",
      "40                                                Ghana\n",
      "41                                               Guinea\n",
      "42                                          Gambia, The\n",
      "43                                        Guinea-Bissau\n",
      "44                                              Grenada\n",
      "45                                            Guatemala\n",
      "46                                               Guyana\n",
      "47                                             Honduras\n",
      "48                                                Haiti\n",
      "49                                            Indonesia\n",
      "50                                             IDA only\n",
      "51                                                India\n",
      "52                                   Iran, Islamic Rep.\n",
      "53                                              Jamaica\n",
      "54                                               Jordan\n",
      "55                                           Kazakhstan\n",
      "56                                                Kenya\n",
      "57                                      Kyrgyz Republic\n",
      "58                                             Cambodia\n",
      "59    Latin America & Caribbean (excluding high income)\n",
      "60                                              Lao PDR\n",
      "61                                              Lebanon\n",
      "62                                              Liberia\n",
      "63                                            St. Lucia\n",
      "64         Least developed countries: UN classification\n",
      "65                                           Low income\n",
      "66                                            Sri Lanka\n",
      "67                                  Lower middle income\n",
      "68                                  Low & middle income\n",
      "69                                              Lesotho\n",
      "70                                              Morocco\n",
      "71                                              Moldova\n",
      "72                                           Madagascar\n",
      "73                                             Maldives\n",
      "74                                               Mexico\n",
      "75                                        Middle income\n",
      "76                                      North Macedonia\n",
      "77                                                 Mali\n",
      "78                                              Myanmar\n",
      "79   Middle East & North Africa (excluding high income)\n",
      "80                                           Montenegro\n",
      "81                                             Mongolia\n",
      "82                                           Mozambique\n",
      "83                                           Mauritania\n",
      "84                                            Mauritius\n",
      "85                                               Malawi\n",
      "86                                                Niger\n",
      "87                                              Nigeria\n",
      "88                                            Nicaragua\n",
      "89                                                Nepal\n",
      "90                                             Pakistan\n",
      "91                                                 Peru\n",
      "92                                          Philippines\n",
      "93                                     Papua New Guinea\n",
      "94                                             Paraguay\n",
      "95                                              Romania\n",
      "96                                   Russian Federation\n",
      "97                                               Rwanda\n",
      "98                                           South Asia\n",
      "99                                                Sudan\n",
      "100                                             Senegal\n",
      "101                                     Solomon Islands\n",
      "102                                        Sierra Leone\n",
      "103                                         El Salvador\n",
      "104                                              Serbia\n",
      "105          Sub-Saharan Africa (excluding high income)\n",
      "106                               Sao Tome and Principe\n",
      "107                                            Eswatini\n",
      "108                                Syrian Arab Republic\n",
      "109                                                Chad\n",
      "110                                                Togo\n",
      "111                                            Thailand\n",
      "112                                          Tajikistan\n",
      "113                                        Turkmenistan\n",
      "114                                         Timor-Leste\n",
      "115                                               Tonga\n",
      "116                                             Tunisia\n",
      "117                                              Turkey\n",
      "118                                            Tanzania\n",
      "119                                              Uganda\n",
      "120                                             Ukraine\n",
      "121                                 Upper middle income\n",
      "122                                          Uzbekistan\n",
      "123                      St. Vincent and the Grenadines\n",
      "124                                       Venezuela, RB\n",
      "125                                             Vietnam\n",
      "126                                             Vanuatu\n",
      "127                                               Samoa\n",
      "128                                              Kosovo\n",
      "129                                         Yemen, Rep.\n",
      "130                                        South Africa\n",
      "131                                              Zambia\n",
      "132                                            Zimbabwe\n",
      "133                                            Djibouti\n",
      "134                                             Somalia\n"
     ]
    }
   ],
   "source": [
    "# Query to count the extract the rows in country_name column\n",
    "country_query = \"\"\"\n",
    "           SELECT country_name AS country \n",
    "               FROM `bigquery-public-data.world_bank_intl_debt.international_debt`\n",
    "               GROUP BY country\n",
    "       \"\"\"\n",
    "\n",
    "\n",
    "# Set up the query\n",
    "cq_job = client.query(country_query)\n",
    "\n",
    "# API request - run the query, and return a pandas DataFrame\n",
    "countries = cq_job.to_dataframe()\n",
    "\n",
    "#Extract the number\n",
    "print(countries.to_string())"
   ]
  },
  {
   "cell_type": "markdown",
   "id": "b748eae2",
   "metadata": {
    "papermill": {
     "duration": 0.007106,
     "end_time": "2023-09-04T17:11:45.218138",
     "exception": false,
     "start_time": "2023-09-04T17:11:45.211032",
     "status": "completed"
    },
    "tags": []
   },
   "source": [
    "We see that there are rows containing info that doesn't match with a particular country but a bunch of countries:\n",
    "\n",
    "* Low & middle income\n",
    "* Lower middle income\n",
    "* Upper middle income\n",
    "* Sub-Saharan Africa (excluding high income)\n",
    "* East Asia & Pacific (excluding high income)\n",
    "* Least developed countries: UN classification\n",
    "* Europe & Central Asia (excluding high income)\n",
    "* Latin America & Caribbean (excluding high income)\n",
    "* Middle East & North Africa (excluding high income)\n",
    "* South Asia \n",
    "* Middle income\n",
    "* Upper middle income\n",
    "\n",
    "\n",
    "We're going to ignore this rows in the following querys using the query sentence: WHERE (country_name NOT LIKE '%income%' AND country_name NOT LIKE 'South Asia' AND country_name NOT LIKE '%UN classification')"
   ]
  },
  {
   "cell_type": "markdown",
   "id": "4f2e431f",
   "metadata": {
    "papermill": {
     "duration": 0.0067,
     "end_time": "2023-09-04T17:11:45.232064",
     "exception": false,
     "start_time": "2023-09-04T17:11:45.225364",
     "status": "completed"
    },
    "tags": []
   },
   "source": [
    "Finding the number of different countries in the dataset"
   ]
  },
  {
   "cell_type": "code",
   "execution_count": 8,
   "id": "7d2bb7a5",
   "metadata": {
    "execution": {
     "iopub.execute_input": "2023-09-04T17:11:45.248848Z",
     "iopub.status.busy": "2023-09-04T17:11:45.248194Z",
     "iopub.status.idle": "2023-09-04T17:11:46.834988Z",
     "shell.execute_reply": "2023-09-04T17:11:46.833819Z"
    },
    "papermill": {
     "duration": 1.597935,
     "end_time": "2023-09-04T17:11:46.837641",
     "exception": false,
     "start_time": "2023-09-04T17:11:45.239706",
     "status": "completed"
    },
    "tags": []
   },
   "outputs": [
    {
     "data": {
      "text/plain": [
       "123"
      ]
     },
     "execution_count": 8,
     "metadata": {},
     "output_type": "execute_result"
    }
   ],
   "source": [
    "# Query to count the distinct rows in country_name column\n",
    "num_country_query = \"\"\"\n",
    "           SELECT COUNT(DISTINCT country_name) AS num_country\n",
    "               FROM `bigquery-public-data.world_bank_intl_debt.international_debt`\n",
    "       \"\"\"\n",
    "\n",
    "\n",
    "# Set up the query\n",
    "ncq_job = client.query(num_country_query)\n",
    "\n",
    "# API request - run the query, and return a pandas DataFrame\n",
    "num_country = ncq_job.to_dataframe()\n",
    "\n",
    "#Extract the number of countries (substracting the 9 rows of non-countries)\n",
    "num_country.loc[0,'num_country']-12"
   ]
  },
  {
   "cell_type": "markdown",
   "id": "ce23d857",
   "metadata": {
    "papermill": {
     "duration": 0.006945,
     "end_time": "2023-09-04T17:11:46.851713",
     "exception": false,
     "start_time": "2023-09-04T17:11:46.844768",
     "status": "completed"
    },
    "tags": []
   },
   "source": [
    "Finding out the distinct debt indicators"
   ]
  },
  {
   "cell_type": "code",
   "execution_count": 9,
   "id": "b5bc24a8",
   "metadata": {
    "execution": {
     "iopub.execute_input": "2023-09-04T17:11:46.867632Z",
     "iopub.status.busy": "2023-09-04T17:11:46.867231Z",
     "iopub.status.idle": "2023-09-04T17:11:48.328802Z",
     "shell.execute_reply": "2023-09-04T17:11:48.327730Z"
    },
    "papermill": {
     "duration": 1.472183,
     "end_time": "2023-09-04T17:11:48.331029",
     "exception": false,
     "start_time": "2023-09-04T17:11:46.858846",
     "status": "completed"
    },
    "tags": []
   },
   "outputs": [
    {
     "data": {
      "text/html": [
       "<div>\n",
       "<style scoped>\n",
       "    .dataframe tbody tr th:only-of-type {\n",
       "        vertical-align: middle;\n",
       "    }\n",
       "\n",
       "    .dataframe tbody tr th {\n",
       "        vertical-align: top;\n",
       "    }\n",
       "\n",
       "    .dataframe thead th {\n",
       "        text-align: right;\n",
       "    }\n",
       "</style>\n",
       "<table border=\"1\" class=\"dataframe\">\n",
       "  <thead>\n",
       "    <tr style=\"text-align: right;\">\n",
       "      <th></th>\n",
       "      <th>debt_indicator</th>\n",
       "      <th>debt_indicator_id</th>\n",
       "    </tr>\n",
       "  </thead>\n",
       "  <tbody>\n",
       "    <tr>\n",
       "      <th>0</th>\n",
       "      <td>GNI (current US$)</td>\n",
       "      <td>NY.GNP.MKTP.CD</td>\n",
       "    </tr>\n",
       "    <tr>\n",
       "      <th>1</th>\n",
       "      <td>IDA grants (current US$)</td>\n",
       "      <td>DT.DIS.IDAG.CD</td>\n",
       "    </tr>\n",
       "    <tr>\n",
       "      <th>2</th>\n",
       "      <td>Debt buyback (current US$)</td>\n",
       "      <td>DT.DSB.DPPG.CD</td>\n",
       "    </tr>\n",
       "    <tr>\n",
       "      <th>3</th>\n",
       "      <td>PPG, IDA (AMT, current US$)</td>\n",
       "      <td>DT.AMT.MIDA.CD</td>\n",
       "    </tr>\n",
       "    <tr>\n",
       "      <th>4</th>\n",
       "      <td>PPG, IDA (DIS, current US$)</td>\n",
       "      <td>DT.DIS.MIDA.CD</td>\n",
       "    </tr>\n",
       "  </tbody>\n",
       "</table>\n",
       "</div>"
      ],
      "text/plain": [
       "                debt_indicator debt_indicator_id\n",
       "0            GNI (current US$)    NY.GNP.MKTP.CD\n",
       "1     IDA grants (current US$)    DT.DIS.IDAG.CD\n",
       "2   Debt buyback (current US$)    DT.DSB.DPPG.CD\n",
       "3  PPG, IDA (AMT, current US$)    DT.AMT.MIDA.CD\n",
       "4  PPG, IDA (DIS, current US$)    DT.DIS.MIDA.CD"
      ]
     },
     "execution_count": 9,
     "metadata": {},
     "output_type": "execute_result"
    }
   ],
   "source": [
    "# Query to extract the distinct rows in indicator_name column\n",
    "deb_indic_query = \"\"\"\n",
    "           SELECT indicator_name AS debt_indicator, indicator_code as debt_indicator_id\n",
    "               FROM `bigquery-public-data.world_bank_intl_debt.international_debt`\n",
    "               GROUP BY debt_indicator, debt_indicator_id  \n",
    "       \"\"\"\n",
    "\n",
    "\n",
    "# Set up the query\n",
    "diq_job = client.query(deb_indic_query)\n",
    "\n",
    "# API request - run the query, and return a pandas DataFrame\n",
    "deb_indic = diq_job.to_dataframe()\n",
    "\n",
    "#Extracting the number\n",
    "deb_indic.head()"
   ]
  },
  {
   "cell_type": "markdown",
   "id": "00878fad",
   "metadata": {
    "papermill": {
     "duration": 0.006759,
     "end_time": "2023-09-04T17:11:48.344859",
     "exception": false,
     "start_time": "2023-09-04T17:11:48.338100",
     "status": "completed"
    },
    "tags": []
   },
   "source": [
    "Totaling the amount of debt owed by each country in million of dolars"
   ]
  },
  {
   "cell_type": "code",
   "execution_count": 10,
   "id": "d73d26ff",
   "metadata": {
    "execution": {
     "iopub.execute_input": "2023-09-04T17:11:48.361113Z",
     "iopub.status.busy": "2023-09-04T17:11:48.360342Z",
     "iopub.status.idle": "2023-09-04T17:11:49.883551Z",
     "shell.execute_reply": "2023-09-04T17:11:49.882450Z"
    },
    "papermill": {
     "duration": 1.534195,
     "end_time": "2023-09-04T17:11:49.886019",
     "exception": false,
     "start_time": "2023-09-04T17:11:48.351824",
     "status": "completed"
    },
    "tags": []
   },
   "outputs": [
    {
     "data": {
      "text/html": [
       "<div>\n",
       "<style scoped>\n",
       "    .dataframe tbody tr th:only-of-type {\n",
       "        vertical-align: middle;\n",
       "    }\n",
       "\n",
       "    .dataframe tbody tr th {\n",
       "        vertical-align: top;\n",
       "    }\n",
       "\n",
       "    .dataframe thead th {\n",
       "        text-align: right;\n",
       "    }\n",
       "</style>\n",
       "<table border=\"1\" class=\"dataframe\">\n",
       "  <thead>\n",
       "    <tr style=\"text-align: right;\">\n",
       "      <th></th>\n",
       "      <th>country_name</th>\n",
       "      <th>total_debt_MUSD</th>\n",
       "    </tr>\n",
       "  </thead>\n",
       "  <tbody>\n",
       "    <tr>\n",
       "      <th>0</th>\n",
       "      <td>Mexico</td>\n",
       "      <td>6.261206e+06</td>\n",
       "    </tr>\n",
       "    <tr>\n",
       "      <th>1</th>\n",
       "      <td>IDA only</td>\n",
       "      <td>5.934219e+06</td>\n",
       "    </tr>\n",
       "    <tr>\n",
       "      <th>2</th>\n",
       "      <td>India</td>\n",
       "      <td>4.476825e+06</td>\n",
       "    </tr>\n",
       "    <tr>\n",
       "      <th>3</th>\n",
       "      <td>Brazil</td>\n",
       "      <td>3.859451e+06</td>\n",
       "    </tr>\n",
       "    <tr>\n",
       "      <th>4</th>\n",
       "      <td>Russian Federation</td>\n",
       "      <td>3.622486e+06</td>\n",
       "    </tr>\n",
       "  </tbody>\n",
       "</table>\n",
       "</div>"
      ],
      "text/plain": [
       "         country_name  total_debt_MUSD\n",
       "0              Mexico     6.261206e+06\n",
       "1            IDA only     5.934219e+06\n",
       "2               India     4.476825e+06\n",
       "3              Brazil     3.859451e+06\n",
       "4  Russian Federation     3.622486e+06"
      ]
     },
     "execution_count": 10,
     "metadata": {},
     "output_type": "execute_result"
    }
   ],
   "source": [
    "total_debt_query = \"\"\"\n",
    "           SELECT country_name,\n",
    "               SUM(value)/ 1000000 AS total_debt_MUSD \n",
    "               FROM `bigquery-public-data.world_bank_intl_debt.international_debt`\n",
    "               WHERE (country_name NOT LIKE '%income%' AND country_name NOT LIKE 'South Asia' AND country_name NOT LIKE '%UN classification')\n",
    "               GROUP BY country_name\n",
    "               ORDER BY total_debt_MUSD DESC \n",
    "       \"\"\"\n",
    "\n",
    "\n",
    "# Set up the query\n",
    "tdq_job = client.query(total_debt_query)\n",
    "\n",
    "# API request - run the query, and return a pandas DataFrame\n",
    "total_debt = tdq_job.to_dataframe()\n",
    "\n",
    "#Extract the number\n",
    "total_debt.head()"
   ]
  },
  {
   "cell_type": "markdown",
   "id": "2e53f3e3",
   "metadata": {
    "papermill": {
     "duration": 0.00694,
     "end_time": "2023-09-04T17:11:49.900361",
     "exception": false,
     "start_time": "2023-09-04T17:11:49.893421",
     "status": "completed"
    },
    "tags": []
   },
   "source": [
    "According to this dataset the country with more debt is Mexico with aprox **6.2 million million USD**"
   ]
  },
  {
   "cell_type": "markdown",
   "id": "6a37eb09",
   "metadata": {
    "papermill": {
     "duration": 0.006882,
     "end_time": "2023-09-04T17:11:49.914396",
     "exception": false,
     "start_time": "2023-09-04T17:11:49.907514",
     "status": "completed"
    },
    "tags": []
   },
   "source": [
    "Totaling the amount of debt owed by all countries (without including the groups of countries described above)"
   ]
  },
  {
   "cell_type": "code",
   "execution_count": 11,
   "id": "ed7666c9",
   "metadata": {
    "execution": {
     "iopub.execute_input": "2023-09-04T17:11:49.931393Z",
     "iopub.status.busy": "2023-09-04T17:11:49.930764Z",
     "iopub.status.idle": "2023-09-04T17:11:51.355302Z",
     "shell.execute_reply": "2023-09-04T17:11:51.354193Z"
    },
    "papermill": {
     "duration": 1.435682,
     "end_time": "2023-09-04T17:11:51.357479",
     "exception": false,
     "start_time": "2023-09-04T17:11:49.921797",
     "status": "completed"
    },
    "tags": []
   },
   "outputs": [
    {
     "data": {
      "text/html": [
       "<div>\n",
       "<style scoped>\n",
       "    .dataframe tbody tr th:only-of-type {\n",
       "        vertical-align: middle;\n",
       "    }\n",
       "\n",
       "    .dataframe tbody tr th {\n",
       "        vertical-align: top;\n",
       "    }\n",
       "\n",
       "    .dataframe thead th {\n",
       "        text-align: right;\n",
       "    }\n",
       "</style>\n",
       "<table border=\"1\" class=\"dataframe\">\n",
       "  <thead>\n",
       "    <tr style=\"text-align: right;\">\n",
       "      <th></th>\n",
       "      <th>total_debt_MUSD</th>\n",
       "    </tr>\n",
       "  </thead>\n",
       "  <tbody>\n",
       "    <tr>\n",
       "      <th>0</th>\n",
       "      <td>6.744104e+07</td>\n",
       "    </tr>\n",
       "  </tbody>\n",
       "</table>\n",
       "</div>"
      ],
      "text/plain": [
       "   total_debt_MUSD\n",
       "0     6.744104e+07"
      ]
     },
     "execution_count": 11,
     "metadata": {},
     "output_type": "execute_result"
    }
   ],
   "source": [
    "debt_query = \"\"\"\n",
    "           SELECT\n",
    "               SUM(value)/ 1000000 AS total_debt_MUSD \n",
    "               FROM `bigquery-public-data.world_bank_intl_debt.international_debt`\n",
    "               WHERE (country_name NOT LIKE '%income%' AND country_name NOT LIKE 'South Asia' AND country_name NOT LIKE '%UN classification')\n",
    "       \"\"\"\n",
    "\n",
    "\n",
    "# Set up the query\n",
    "dq_job = client.query(debt_query)\n",
    "\n",
    "# API request - run the query, and return a pandas DataFrame\n",
    "debt = dq_job.to_dataframe()\n",
    "\n",
    "#Extract the number\n",
    "debt.head()"
   ]
  },
  {
   "cell_type": "code",
   "execution_count": null,
   "id": "4719de72",
   "metadata": {
    "papermill": {
     "duration": 0.007544,
     "end_time": "2023-09-04T17:11:51.372882",
     "exception": false,
     "start_time": "2023-09-04T17:11:51.365338",
     "status": "completed"
    },
    "tags": []
   },
   "outputs": [],
   "source": []
  }
 ],
 "kernelspec": {
  "display_name": "Python 3",
  "language": "python",
  "name": "python3"
 },
 "language_info": {
  "codemirror_mode": {
   "name": "ipython",
   "version": 3
  },
  "file_extension": ".py",
  "mimetype": "text/x-python",
  "name": "python",
  "nbconvert_exporter": "python",
  "pygments_lexer": "ipython3",
  "version": "3.6.4"
 },
 "metadata": {
  "kernelspec": {
   "display_name": "Python 3",
   "language": "python",
   "name": "python3"
  },
  "language_info": {
   "codemirror_mode": {
    "name": "ipython",
    "version": 3
   },
   "file_extension": ".py",
   "mimetype": "text/x-python",
   "name": "python",
   "nbconvert_exporter": "python",
   "pygments_lexer": "ipython3",
   "version": "3.10.12"
  },
  "papermill": {
   "default_parameters": {},
   "duration": 17.209925,
   "end_time": "2023-09-04T17:11:52.101517",
   "environment_variables": {},
   "exception": null,
   "input_path": "__notebook__.ipynb",
   "output_path": "__notebook__.ipynb",
   "parameters": {},
   "start_time": "2023-09-04T17:11:34.891592",
   "version": "2.4.0"
  }
 },
 "nbformat": 4,
 "nbformat_minor": 5
}
